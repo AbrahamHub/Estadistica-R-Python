{
 "cells": [
  {
   "cell_type": "markdown",
   "id": "fe67be444eec5e28",
   "metadata": {},
   "source": [
    "# Media"
   ]
  },
  {
   "cell_type": "code",
   "id": "d8960ba6587672ce",
   "metadata": {},
   "source": [
    "import pandas as pd\n",
    "from scipy.stats import trim_mean\n",
    "\n",
    "df = pd.read_csv('data.csv', sep=';', header=None)\n",
    "\n",
    "df[0] = pd.to_numeric(df[0], errors='coerce')\n",
    "df[1] = pd.to_numeric(df[1], errors='coerce')\n",
    "\n",
    "media = df[0].mean()\n",
    "\n",
    "mediaponderada = (df[0] * df[1]).sum() / df[1].sum()\n",
    "\n",
    "porcentaje_truncado = 0.1\n",
    "mediatruncada = trim_mean(df[0].dropna(), proportiontocut=porcentaje_truncado)\n",
    "\n",
    "print(\"La media es:\", media)\n",
    "print(\"La media ponderada:\", mediaponderada)\n",
    "print(\"La media truncada:\", mediatruncada)"
   ],
   "outputs": [],
   "execution_count": null
  },
  {
   "cell_type": "code",
   "id": "6fbd525bdf10a56",
   "metadata": {},
   "source": [
    "library(readr)\n",
    "\n",
    "df <- read_csv2('data.csv', col_names = FALSE)\n",
    "\n",
    "df[[1]] <- as.numeric(df[[1]])\n",
    "df[[2]] <- as.numeric(df[[2]])\n",
    "\n",
    "media <- mean(df[[1]], na.rm = TRUE)\n",
    "\n",
    "mediaponderada <- sum(df[[1]] * df[[2]], na.rm = TRUE) / sum(df[[2]], na.rm = TRUE)\n",
    "\n",
    "print(paste(\"La media es: \", media))\n",
    "print(paste(\"La media ponderada es: \", mediaponderada))\n",
    "\n"
   ],
   "outputs": [],
   "execution_count": null
  },
  {
   "metadata": {},
   "cell_type": "markdown",
   "source": "# Mediana",
   "id": "71d4c1929b10c717"
  },
  {
   "metadata": {},
   "cell_type": "code",
   "source": [
    "import pandas as pd\n",
    "\n",
    "df = pd.read_csv('data.csv', sep=';', header=None)\n",
    "\n",
    "df[0] = pd.to_numeric(df[0], errors='coerce')\n",
    "df[1] = pd.to_numeric(df[1], errors='coerce')\n",
    "\n",
    "ascendente = df.sort_values(by=[1], ascending=False)\n",
    "\n",
    "mediana = ascendente[0].median()\n",
    "\n",
    "\n",
    "print(f\"La mediana es: {mediana}\")\n"
   ],
   "id": "b4d9f4e1e5b660dd",
   "outputs": [],
   "execution_count": null
  },
  {
   "metadata": {},
   "cell_type": "code",
   "source": [
    "library(readr)\n",
    "\n",
    "df <- read_csv2('data.csv', col_names = FALSE)\n",
    "\n",
    "\n",
    "df[[1]] <- as.numeric(df[[1]])\n",
    "df[[2]] <- as.numeric(df[[2]])\n",
    "\n",
    "mediana <- median(df[[2]], na.rm = TRUE)\n",
    "\n",
    "print(paste(\"La mediana es: \", mediana))"
   ],
   "id": "67ba40e45aa0c10f",
   "outputs": [],
   "execution_count": null
  },
  {
   "metadata": {},
   "cell_type": "markdown",
   "source": "Ejemplo: estatimaciones de localizacion de la población y tasas de homicidios.",
   "id": "6a280d2a450d146a"
  },
  {
   "metadata": {
    "ExecuteTime": {
     "end_time": "2025-02-06T05:54:59.942522Z",
     "start_time": "2025-02-06T05:54:59.890299Z"
    }
   },
   "cell_type": "code",
   "source": [
    "state <- read.csv('state.csv')\n",
    "\n",
    "mean(state[['Poblacion']])\n",
    "mean(state[['Poblacion']], trim=0.2)\n",
    "median(state[['Poblacion']])"
   ],
   "id": "4e6ea31713b6c30d",
   "outputs": [
    {
     "name": "stderr",
     "output_type": "stream",
     "text": [
      "UsageError: Cell magic `%%R` not found.\n"
     ]
    }
   ],
   "execution_count": 11
  },
  {
   "metadata": {
    "ExecuteTime": {
     "end_time": "2025-02-06T05:54:24.485442Z",
     "start_time": "2025-02-06T05:54:23.848960Z"
    }
   },
   "cell_type": "code",
   "source": "pip uninstall scipy -y",
   "id": "a82dfcc9e295cdea",
   "outputs": [
    {
     "name": "stdout",
     "output_type": "stream",
     "text": [
      "Found existing installation: scipy 1.15.1\r\n",
      "Uninstalling scipy-1.15.1:\r\n",
      "  Successfully uninstalled scipy-1.15.1\r\n",
      "Note: you may need to restart the kernel to use updated packages.\n"
     ]
    }
   ],
   "execution_count": 9
  },
  {
   "metadata": {
    "ExecuteTime": {
     "end_time": "2025-02-06T05:54:32.431393Z",
     "start_time": "2025-02-06T05:54:32.400779Z"
    }
   },
   "cell_type": "code",
   "source": [
    "import pandas as pd\n",
    "import scipy.stats as stats\n",
    "\n",
    "state = pd.read_csv('state.csv')\n",
    "\n",
    "media = state['Poblacion'].mean()\n",
    "mediatruncada = stats.trim_mean(state[['Poblacion']],0.2)\n",
    "mediana = state['Poblacion'].median()\n",
    "\n",
    "print(f\"La media de poblacion es: {media}\")\n",
    "print(f\"La media truncada de poblacion es: {mediatruncada}\")\n",
    "print(\"La mediana es: \", mediana)\n"
   ],
   "id": "6bb10c65a5c96ab9",
   "outputs": [
    {
     "name": "stdout",
     "output_type": "stream",
     "text": [
      "La media de poblacion es: 7694135.625\n",
      "La media truncada de poblacion es: [3931483.]\n",
      "La mediana es:  4176916.5\n"
     ]
    }
   ],
   "execution_count": 10
  },
  {
   "metadata": {},
   "cell_type": "markdown",
   "source": "# Desviación media absoluta",
   "id": "8da2acb65c72a4fd"
  },
  {
   "metadata": {
    "ExecuteTime": {
     "end_time": "2025-02-16T21:57:23.730809Z",
     "start_time": "2025-02-16T21:57:23.712352Z"
    }
   },
   "cell_type": "code",
   "source": [
    "import pandas as pd\n",
    "import numpy as np\n",
    "\n",
    "state = pd.read_csv('state.csv')\n",
    "media = state['Poblacion'].mean()\n",
    "n = state['Poblacion'].count()\n",
    "def desviacion(state, media, n):\n",
    "    sumatoria = 0\n",
    "    for i in range(n):\n",
    "        absoluto = abs(state.iloc[i]['Poblacion'] - media)\n",
    "        sumatoria += absoluto\n",
    "    desviacion_media_a = sumatoria / n\n",
    "    return desviacion_media_a\n",
    "\n",
    "mad = np.mean(np.abs(state['Poblacion']-media))\n",
    "\n",
    "print(f\"La media de poblacion es: {media}\")\n",
    "print(f\"Desviacion media absoluta: {desviacion(state, media, n)}\")\n",
    "print(\"Mad: \", mad)\n"
   ],
   "id": "269f51517c98919",
   "outputs": [
    {
     "name": "stdout",
     "output_type": "stream",
     "text": [
      "La media de poblacion es: 7694135.625\n",
      "Desviacion media absoluta: 7389955.09375\n",
      "Mad:  7389955.09375\n"
     ]
    }
   ],
   "execution_count": 39
  },
  {
   "metadata": {
    "ExecuteTime": {
     "end_time": "2025-02-16T22:09:19.300954Z",
     "start_time": "2025-02-16T22:09:19.267450Z"
    }
   },
   "cell_type": "code",
   "source": [
    "state <- read.csv('state.csv')\n",
    "\n",
    "mean <- mean(state[['Poblacion']])\n",
    "mad_val <- mean(abs(state[['Poblacion']] - mean))\n",
    "cat(\"MAD: \", mad_val)"
   ],
   "id": "c9d51ca8b830804d",
   "outputs": [
    {
     "name": "stdout",
     "output_type": "stream",
     "text": [
      "MAD:  7389955"
     ]
    }
   ],
   "execution_count": 6
  },
  {
   "metadata": {},
   "cell_type": "markdown",
   "source": "# Variancia y desviacion estandar",
   "id": "30469fc99acdec1"
  },
  {
   "metadata": {
    "ExecuteTime": {
     "end_time": "2025-02-16T22:15:35.833813Z",
     "start_time": "2025-02-16T22:15:35.416060Z"
    }
   },
   "cell_type": "code",
   "source": [
    "import pandas as pd\n",
    "import math\n",
    "import numpy as np\n",
    "\n",
    "state = pd.read_csv('state.csv')\n",
    "media = state['Poblacion'].mean()\n",
    "n = state['Poblacion'].count()\n",
    "\n",
    "varianza_poblacional = np.var(state['Poblacion'])\n",
    "desviacion_estandar_poblacional = np.std(state['Poblacion'])\n",
    "\n",
    "def variancia_desviacion(state, media, n):\n",
    "    sumatoria = 0\n",
    "    for i in range(n):\n",
    "        diferencia = pow((state.iloc[i]['Poblacion'] - media),2)\n",
    "        sumatoria += diferencia\n",
    "    variancia = sumatoria / n - 1\n",
    "    desviacion_estandar = math.sqrt(variancia)\n",
    "    print(desviacion_estandar)\n",
    "    return variancia, desviacion_estandar\n",
    "variancia, desviacion_estandar = variancia_desviacion(state, media, n)\n",
    "print(f\"La media de poblacion es: {media}\")\n",
    "print(\"Variancia: \",variancia,\"Desviacion: \", desviacion_estandar)\n",
    "print(\"V\",varianza_poblacional,\"D\",desviacion_estandar_poblacional)\n"
   ],
   "id": "76e363ee73508bcd",
   "outputs": [
    {
     "name": "stdout",
     "output_type": "stream",
     "text": [
      "11323887.827161139\n",
      "La media de poblacion es: 7694135.625\n",
      "Variancia:  128230435522128.23 Desviacion:  11323887.827161139\n",
      "V 128230435522129.22 D 11323887.827161184\n"
     ]
    }
   ],
   "execution_count": 1
  },
  {
   "metadata": {
    "ExecuteTime": {
     "end_time": "2025-02-16T22:25:29.735542Z",
     "start_time": "2025-02-16T22:25:29.714296Z"
    }
   },
   "cell_type": "code",
   "source": [
    "state <- read.csv('state.csv')\n",
    "\n",
    "poblacion <- state$Poblacion\n",
    "n <- length(poblacion)\n",
    "\n",
    "varianza_muestral <- var(poblacion)\n",
    "\n",
    "varianza_poblacional <- varianza_muestral * ((n - 1) / n)\n",
    "\n",
    "desviacion_estandar_poblacional <- sqrt(varianza_poblacional)\n",
    "\n",
    "# Mostrar resultados\n",
    "cat(\"Varianza poblacional:\", varianza_poblacional, \"\\n\")\n",
    "cat(\"Desviación estándar poblacional:\", desviacion_estandar_poblacional, \"\\n\")\n"
   ],
   "id": "30e5e18cb84241b5",
   "outputs": [
    {
     "name": "stdout",
     "output_type": "stream",
     "text": [
      "Varianza poblacional: 1.282304e+14 \n",
      "Desviación estándar poblacional: 11323888 \n"
     ]
    }
   ],
   "execution_count": 11
  },
  {
   "metadata": {},
   "cell_type": "markdown",
   "source": "#",
   "id": "419fb57ddc180dc9"
  }
 ],
 "metadata": {
  "kernelspec": {
   "display_name": "R",
   "language": "R",
   "name": "ir"
  },
  "language_info": {
   "codemirror_mode": {
    "name": "ipython",
    "version": 3
   },
   "file_extension": ".py",
   "mimetype": "text/x-python",
   "name": "python",
   "nbconvert_exporter": "python",
   "pygments_lexer": "ipython3",
   "version": "3.12.7"
  }
 },
 "nbformat": 4,
 "nbformat_minor": 5
}
