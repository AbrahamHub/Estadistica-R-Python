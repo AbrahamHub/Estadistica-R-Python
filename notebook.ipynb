{
 "cells": [
  {
   "cell_type": "markdown",
   "id": "fe67be444eec5e28",
   "metadata": {},
   "source": [
    "# Media"
   ]
  },
  {
   "cell_type": "code",
   "id": "d8960ba6587672ce",
   "metadata": {},
   "source": [
    "import pandas as pd\n",
    "from scipy.stats import trim_mean\n",
    "\n",
    "df = pd.read_csv('data.csv', sep=';', header=None)\n",
    "\n",
    "df[0] = pd.to_numeric(df[0], errors='coerce')\n",
    "df[1] = pd.to_numeric(df[1], errors='coerce')\n",
    "\n",
    "media = df[0].mean()\n",
    "\n",
    "mediaponderada = (df[0] * df[1]).sum() / df[1].sum()\n",
    "\n",
    "porcentaje_truncado = 0.1\n",
    "mediatruncada = trim_mean(df[0].dropna(), proportiontocut=porcentaje_truncado)\n",
    "\n",
    "print(\"La media es:\", media)\n",
    "print(\"La media ponderada:\", mediaponderada)\n",
    "print(\"La media truncada:\", mediatruncada)"
   ],
   "outputs": [],
   "execution_count": null
  },
  {
   "cell_type": "code",
   "id": "6fbd525bdf10a56",
   "metadata": {},
   "source": [
    "library(readr)\n",
    "\n",
    "df <- read_csv2('data.csv', col_names = FALSE)\n",
    "\n",
    "df[[1]] <- as.numeric(df[[1]])\n",
    "df[[2]] <- as.numeric(df[[2]])\n",
    "\n",
    "media <- mean(df[[1]], na.rm = TRUE)\n",
    "\n",
    "mediaponderada <- sum(df[[1]] * df[[2]], na.rm = TRUE) / sum(df[[2]], na.rm = TRUE)\n",
    "\n",
    "print(paste(\"La media es: \", media))\n",
    "print(paste(\"La media ponderada es: \", mediaponderada))\n",
    "\n"
   ],
   "outputs": [],
   "execution_count": null
  },
  {
   "metadata": {},
   "cell_type": "markdown",
   "source": "# Mediana",
   "id": "71d4c1929b10c717"
  },
  {
   "metadata": {},
   "cell_type": "code",
   "source": [
    "import pandas as pd\n",
    "\n",
    "df = pd.read_csv('data.csv', sep=';', header=None)\n",
    "\n",
    "df[0] = pd.to_numeric(df[0], errors='coerce')\n",
    "df[1] = pd.to_numeric(df[1], errors='coerce')\n",
    "\n",
    "ascendente = df.sort_values(by=[1], ascending=False)\n",
    "\n",
    "mediana = ascendente[0].median()\n",
    "\n",
    "\n",
    "print(f\"La mediana es: {mediana}\")\n"
   ],
   "id": "b4d9f4e1e5b660dd",
   "outputs": [],
   "execution_count": null
  },
  {
   "metadata": {},
   "cell_type": "code",
   "source": [
    "library(readr)\n",
    "\n",
    "df <- read_csv2('data.csv', col_names = FALSE)\n",
    "\n",
    "\n",
    "df[[1]] <- as.numeric(df[[1]])\n",
    "df[[2]] <- as.numeric(df[[2]])\n",
    "\n",
    "mediana <- median(df[[2]], na.rm = TRUE)\n",
    "\n",
    "print(paste(\"La mediana es: \", mediana))"
   ],
   "id": "67ba40e45aa0c10f",
   "outputs": [],
   "execution_count": null
  },
  {
   "metadata": {},
   "cell_type": "markdown",
   "source": "Ejemplo: estatimaciones de localizacion de la población y tasas de homicidios.",
   "id": "6a280d2a450d146a"
  },
  {
   "metadata": {
    "ExecuteTime": {
     "end_time": "2025-02-06T05:54:59.942522Z",
     "start_time": "2025-02-06T05:54:59.890299Z"
    }
   },
   "cell_type": "code",
   "source": [
    "state <- read.csv('state.csv')\n",
    "\n",
    "mean(state[['Poblacion']])\n",
    "mean(state[['Poblacion']], trim=0.2)\n",
    "median(state[['Poblacion']])"
   ],
   "id": "4e6ea31713b6c30d",
   "outputs": [
    {
     "name": "stderr",
     "output_type": "stream",
     "text": [
      "UsageError: Cell magic `%%R` not found.\n"
     ]
    }
   ],
   "execution_count": 11
  },
  {
   "metadata": {
    "ExecuteTime": {
     "end_time": "2025-02-06T05:54:24.485442Z",
     "start_time": "2025-02-06T05:54:23.848960Z"
    }
   },
   "cell_type": "code",
   "source": "pip uninstall scipy -y",
   "id": "a82dfcc9e295cdea",
   "outputs": [
    {
     "name": "stdout",
     "output_type": "stream",
     "text": [
      "Found existing installation: scipy 1.15.1\r\n",
      "Uninstalling scipy-1.15.1:\r\n",
      "  Successfully uninstalled scipy-1.15.1\r\n",
      "Note: you may need to restart the kernel to use updated packages.\n"
     ]
    }
   ],
   "execution_count": 9
  },
  {
   "metadata": {
    "ExecuteTime": {
     "end_time": "2025-02-06T05:54:32.431393Z",
     "start_time": "2025-02-06T05:54:32.400779Z"
    }
   },
   "cell_type": "code",
   "source": [
    "import pandas as pd\n",
    "import scipy.stats as stats\n",
    "\n",
    "state = pd.read_csv('state.csv')\n",
    "\n",
    "media = state['Poblacion'].mean()\n",
    "mediatruncada = stats.trim_mean(state[['Poblacion']],0.2)\n",
    "mediana = state['Poblacion'].median()\n",
    "\n",
    "print(f\"La media de poblacion es: {media}\")\n",
    "print(f\"La media truncada de poblacion es: {mediatruncada}\")\n",
    "print(\"La mediana es: \", mediana)\n"
   ],
   "id": "6bb10c65a5c96ab9",
   "outputs": [
    {
     "name": "stdout",
     "output_type": "stream",
     "text": [
      "La media de poblacion es: 7694135.625\n",
      "La media truncada de poblacion es: [3931483.]\n",
      "La mediana es:  4176916.5\n"
     ]
    }
   ],
   "execution_count": 10
  },
  {
   "metadata": {},
   "cell_type": "markdown",
   "source": "# Desviación media absoluta",
   "id": "8da2acb65c72a4fd"
  },
  {
   "metadata": {
    "ExecuteTime": {
     "end_time": "2025-02-16T21:57:23.730809Z",
     "start_time": "2025-02-16T21:57:23.712352Z"
    }
   },
   "cell_type": "code",
   "source": [
    "import pandas as pd\n",
    "import numpy as np\n",
    "\n",
    "state = pd.read_csv('state.csv')\n",
    "media = state['Poblacion'].mean()\n",
    "n = state['Poblacion'].count()\n",
    "def desviacion(state, media, n):\n",
    "    sumatoria = 0\n",
    "    for i in range(n):\n",
    "        absoluto = abs(state.iloc[i]['Poblacion'] - media)\n",
    "        sumatoria += absoluto\n",
    "    desviacion_media_a = sumatoria / n\n",
    "    return desviacion_media_a\n",
    "\n",
    "mad = np.mean(np.abs(state['Poblacion']-media))\n",
    "\n",
    "print(f\"La media de poblacion es: {media}\")\n",
    "print(f\"Desviacion media absoluta: {desviacion(state, media, n)}\")\n",
    "print(\"Mad: \", mad)\n"
   ],
   "id": "269f51517c98919",
   "outputs": [
    {
     "name": "stdout",
     "output_type": "stream",
     "text": [
      "La media de poblacion es: 7694135.625\n",
      "Desviacion media absoluta: 7389955.09375\n",
      "Mad:  7389955.09375\n"
     ]
    }
   ],
   "execution_count": 39
  },
  {
   "metadata": {
    "ExecuteTime": {
     "end_time": "2025-02-16T22:09:19.300954Z",
     "start_time": "2025-02-16T22:09:19.267450Z"
    }
   },
   "cell_type": "code",
   "source": [
    "state <- read.csv('state.csv')\n",
    "\n",
    "mean <- mean(state[['Poblacion']])\n",
    "mad_val <- mean(abs(state[['Poblacion']] - mean))\n",
    "cat(\"MAD: \", mad_val)"
   ],
   "id": "c9d51ca8b830804d",
   "outputs": [
    {
     "name": "stdout",
     "output_type": "stream",
     "text": [
      "MAD:  7389955"
     ]
    }
   ],
   "execution_count": 6
  },
  {
   "metadata": {},
   "cell_type": "markdown",
   "source": "# Variancia y desviacion estandar",
   "id": "30469fc99acdec1"
  },
  {
   "metadata": {
    "ExecuteTime": {
     "end_time": "2025-02-16T22:15:35.833813Z",
     "start_time": "2025-02-16T22:15:35.416060Z"
    }
   },
   "cell_type": "code",
   "source": [
    "import pandas as pd\n",
    "import numpy as np\n",
    "\n",
    "state = pd.read_csv('state.csv')\n",
    "media = state['Poblacion'].mean()\n",
    "n = state['Poblacion'].count()\n",
    "\n",
    "varianza_poblacional = np.var(state['Poblacion'])\n",
    "desviacion_estandar_poblacional = np.std(state['Poblacion'])\n",
    "\n",
    "def variancia_desviacion(state, media, n):\n",
    "    sumatoria = 0\n",
    "    for i in range(n):\n",
    "        diferencia = pow((state.iloc[i]['Poblacion'] - media),2)\n",
    "        sumatoria += diferencia\n",
    "    variancia = sumatoria / n - 1\n",
    "    desviacion_estandar = math.sqrt(variancia)\n",
    "    print(desviacion_estandar)\n",
    "    return variancia, desviacion_estandar\n",
    "variancia, desviacion_estandar = variancia_desviacion(state, media, n)\n",
    "print(f\"La media de poblacion es: {media}\")\n",
    "print(\"Variancia: \",variancia,\"Desviacion: \", desviacion_estandar)\n",
    "print(\"V\",varianza_poblacional,\"D\",desviacion_estandar_poblacional)\n"
   ],
   "id": "76e363ee73508bcd",
   "outputs": [
    {
     "name": "stdout",
     "output_type": "stream",
     "text": [
      "11323887.827161139\n",
      "La media de poblacion es: 7694135.625\n",
      "Variancia:  128230435522128.23 Desviacion:  11323887.827161139\n",
      "V 128230435522129.22 D 11323887.827161184\n"
     ]
    }
   ],
   "execution_count": 1
  },
  {
   "metadata": {
    "ExecuteTime": {
     "end_time": "2025-02-16T22:25:29.735542Z",
     "start_time": "2025-02-16T22:25:29.714296Z"
    }
   },
   "cell_type": "code",
   "source": [
    "state <- read.csv('state.csv')\n",
    "\n",
    "poblacion <- state$Poblacion\n",
    "n <- length(poblacion)\n",
    "\n",
    "varianza_muestral <- var(poblacion)\n",
    "\n",
    "varianza_poblacional <- varianza_muestral * ((n - 1) / n)\n",
    "\n",
    "desviacion_estandar_poblacional <- sqrt(varianza_poblacional)\n",
    "\n",
    "# Mostrar resultados\n",
    "cat(\"Varianza poblacional:\", varianza_poblacional, \"\\n\")\n",
    "cat(\"Desviación estándar poblacional:\", desviacion_estandar_poblacional, \"\\n\")\n"
   ],
   "id": "30e5e18cb84241b5",
   "outputs": [
    {
     "name": "stdout",
     "output_type": "stream",
     "text": [
      "Varianza poblacional: 1.282304e+14 \n",
      "Desviación estándar poblacional: 11323888 \n"
     ]
    }
   ],
   "execution_count": 11
  },
  {
   "metadata": {},
   "cell_type": "markdown",
   "source": "# MAD",
   "id": "94c4104a95339b2c"
  },
  {
   "metadata": {
    "ExecuteTime": {
     "end_time": "2025-02-23T18:25:14.953423Z",
     "start_time": "2025-02-23T18:25:14.940055Z"
    }
   },
   "cell_type": "code",
   "source": [
    "import pandas as pd\n",
    "import math\n",
    "import numpy as np\n",
    "\n",
    "state = pd.read_csv('state.csv')\n",
    "mediana = state['Poblacion'].median()\n",
    "print(\"La mediana de poblacion es: \", mediana)\n",
    "n = state['Poblacion'].count()\n",
    "diferencias = []\n",
    "def desviacion_absoluta_mediana(state, mediana, n):\n",
    "    for i in range(n):\n",
    "        diferencia = abs((state.iloc[i]['Poblacion'] - mediana))\n",
    "        diferencias.append(diferencia)\n",
    "    mad = np.median(diferencias)\n",
    "    return mad\n",
    "\n",
    "print(\"Desviacion absoluta mediana: \",desviacion_absoluta_mediana(state, mediana, n))"
   ],
   "id": "838069d3aa102016",
   "outputs": [
    {
     "name": "stdout",
     "output_type": "stream",
     "text": [
      "La media de poblacion es:  4176916.5\n",
      "Desviacion absoluta mediana:  1738049.5\n"
     ]
    }
   ],
   "execution_count": 6
  },
  {
   "metadata": {
    "ExecuteTime": {
     "end_time": "2025-02-23T19:10:51.167035Z",
     "start_time": "2025-02-23T19:10:51.040216Z"
    }
   },
   "cell_type": "code",
   "source": [
    "state <- read.csv('state.csv')\n",
    "\n",
    "poblacion <- state$Poblacion\n",
    "n <- length(poblacion)\n",
    "\n",
    "mediana <- median(poblacion)\n",
    "\n",
    "mad <- median(abs(state[['Poblacion']] - mediana))\n",
    "\n",
    "\n",
    "cat(\"Desviacion absoluta mediana: \", mad, \"\\n\")\n"
   ],
   "id": "9aee263e773675b6",
   "outputs": [
    {
     "name": "stdout",
     "output_type": "stream",
     "text": [
      "Desviacion absoluta mediana:  1738050 \n"
     ]
    }
   ],
   "execution_count": 1
  },
  {
   "metadata": {},
   "cell_type": "markdown",
   "source": "# Graficos",
   "id": "4fa47657befa9e78"
  },
  {
   "metadata": {
    "ExecuteTime": {
     "end_time": "2025-03-06T20:13:21.511714Z",
     "start_time": "2025-03-06T20:13:21.254524Z"
    }
   },
   "cell_type": "code",
   "source": [
    "import numpy as np\n",
    "import matplotlib.pyplot as plt\n",
    "\n",
    "# Generar un conjunto de datos aleatorios\n",
    "np.random.seed(5)\n",
    "data = np.random.randn(10)  # 1000 datos con distribución normal\n",
    "\n",
    "# Calcular las estadísticas\n",
    "varianza = np.var(data)\n",
    "desviacion_estandar = np.std(data)\n",
    "desviacion_media_absoluta = np.mean(np.abs(data - np.mean(data)))\n",
    "desviacion_absoluta_mediana = np.median(np.abs(data - np.median(data)))\n",
    "\n",
    "# Crear los gráficos\n",
    "fig, axs = plt.subplots(2, 2, figsize=(12, 10))\n",
    "\n",
    "# Varianza\n",
    "axs[0, 0].hist(data, bins=30, color='skyblue', edgecolor='black')\n",
    "axs[0, 0].axvline(np.mean(data), color='red', linestyle='dashed', linewidth=2)\n",
    "axs[0, 0].set_title(f'Varianza: {varianza:.2f}')\n",
    "axs[0, 0].set_xlabel('Valores')\n",
    "axs[0, 0].set_ylabel('Frecuencia')\n",
    "\n",
    "# Desviación estándar\n",
    "axs[0, 1].hist(data, bins=30, color='lightgreen', edgecolor='black')\n",
    "axs[0, 1].axvline(np.mean(data), color='red', linestyle='dashed', linewidth=2)\n",
    "axs[0, 1].set_title(f'Desviación estándar: {desviacion_estandar:.2f}')\n",
    "axs[0, 1].set_xlabel('Valores')\n",
    "axs[0, 1].set_ylabel('Frecuencia')\n",
    "\n",
    "# Desviación media absoluta\n",
    "axs[1, 0].hist(np.abs(data - np.mean(data)), bins=30, color='orange', edgecolor='black')\n",
    "axs[1, 0].axvline(desviacion_media_absoluta, color='red', linestyle='dashed', linewidth=2)\n",
    "axs[1, 0].set_title(f'Desviación media absoluta: {desviacion_media_absoluta:.2f}')\n",
    "axs[1, 0].set_xlabel('Desviaciones Absolutas')\n",
    "axs[1, 0].set_ylabel('Frecuencia')\n",
    "\n",
    "# Desviación absoluta mediana\n",
    "axs[1, 1].hist(np.abs(data - np.median(data)), bins=30, color='purple', edgecolor='black')\n",
    "axs[1, 1].axvline(desviacion_absoluta_mediana, color='red', linestyle='dashed', linewidth=2)\n",
    "axs[1, 1].set_title(f'Desviación absoluta mediana: {desviacion_absoluta_mediana:.2f}')\n",
    "axs[1, 1].set_xlabel('Desviaciones Absolutas')\n",
    "axs[1, 1].set_ylabel('Frecuencia')\n",
    "\n",
    "# Ajustar la distribución de los gráficos\n",
    "plt.tight_layout()\n",
    "plt.show()\n",
    "print(data)\n",
    "print(np.mean(data))\n"
   ],
   "id": "b82c610d70932123",
   "outputs": [
    {
     "data": {
      "text/plain": [
       "<Figure size 1200x1000 with 4 Axes>"
      ],
      "image/png": "[encoded data removed]"
     },
     "metadata": {},
     "output_type": "display_data"
    },
    {
     "name": "stdout",
     "output_type": "stream",
     "text": [
      "[ 0.44122749 -0.33087015  2.43077119 -0.25209213  0.10960984  1.58248112\n",
      " -0.9092324  -0.59163666  0.18760323 -0.32986996]\n",
      "0.23379915563065484\n"
     ]
    }
   ],
   "execution_count": 10
  },
  {
   "metadata": {},
   "cell_type": "markdown",
   "source": "# Estimacion basada en percentiles",
   "id": "7ceea563d722e198"
  },
  {
   "metadata": {
    "ExecuteTime": {
     "end_time": "2025-03-07T02:14:45.026378Z",
     "start_time": "2025-03-07T02:14:44.924901Z"
    }
   },
   "cell_type": "code",
   "source": "",
   "id": "bf3e8429190eef32",
   "outputs": [
    {
     "ename": "ModuleNotFoundError",
     "evalue": "No module named 'graphviz'",
     "output_type": "error",
     "traceback": [
      "\u001B[0;31m---------------------------------------------------------------------------\u001B[0m",
      "\u001B[0;31mModuleNotFoundError\u001B[0m                       Traceback (most recent call last)",
      "Cell \u001B[0;32mIn[1], line 1\u001B[0m\n\u001B[0;32m----> 1\u001B[0m \u001B[38;5;28;01mfrom\u001B[39;00m\u001B[38;5;250m \u001B[39m\u001B[38;5;21;01mgraphviz\u001B[39;00m\u001B[38;5;250m \u001B[39m\u001B[38;5;28;01mimport\u001B[39;00m Digraph\n\u001B[1;32m      3\u001B[0m \u001B[38;5;66;03m# Crear el diagrama de flujo\u001B[39;00m\n\u001B[1;32m      4\u001B[0m flowchart \u001B[38;5;241m=\u001B[39m Digraph(\u001B[38;5;28mformat\u001B[39m\u001B[38;5;241m=\u001B[39m\u001B[38;5;124m'\u001B[39m\u001B[38;5;124mpng\u001B[39m\u001B[38;5;124m'\u001B[39m)\n",
      "\u001B[0;31mModuleNotFoundError\u001B[0m: No module named 'graphviz'"
     ]
    }
   ],
   "execution_count": 1
  }
 ],
 "metadata": {
  "kernelspec": {
   "display_name": "Python 3 (ipykernel)",
   "language": "python",
   "name": "python3"
  },
  "language_info": {
   "codemirror_mode": {
    "name": "ipython",
    "version": 3
   },
   "file_extension": ".py",
   "mimetype": "text/x-python",
   "name": "python",
   "nbconvert_exporter": "python",
   "pygments_lexer": "ipython3",
   "version": "3.12.7"
  }
 },
 "nbformat": 4,
 "nbformat_minor": 5
}
